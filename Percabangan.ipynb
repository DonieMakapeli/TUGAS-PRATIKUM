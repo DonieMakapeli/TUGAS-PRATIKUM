{
 "cells": [
  {
   "cell_type": "code",
   "execution_count": null,
   "id": "9c8d2e6b",
   "metadata": {},
   "outputs": [],
   "source": [
    "kondisi percabangan adalah sebuah cara komputer untuk mengambil keputusan, jika\n",
    "terdapat 2 atau lebih statement\n",
    "\n",
    "sintaks:\n",
    "    \n",
    "    1.jika terdapat 1 kondisi yang akan di eksekusi\n",
    "      \n",
    "        if kondisi:\n",
    "        <tab>statement 1\n",
    "        else:\n",
    "        <tab>statement 2"
   ]
  },
  {
   "cell_type": "code",
   "execution_count": 2,
   "id": "f422c55f",
   "metadata": {},
   "outputs": [
    {
     "name": "stdout",
     "output_type": "stream",
     "text": [
      "Isikan Bilangan:7\n",
      "7 adalah bilangan ganjil\n"
     ]
    }
   ],
   "source": [
    "nilai = int(input('Isikan Bilangan:'))\n",
    "sisa_bagi = nilai % 2\n",
    "\n",
    "if sisa_bagi ==0:\n",
    "    print(nilai,\"adalah bilangan genap\")\n",
    "else:\n",
    "    print(f\"{nilai} adalah bilangan ganjil\") "
   ]
  },
  {
   "cell_type": "code",
   "execution_count": null,
   "id": "100ed292",
   "metadata": {},
   "outputs": [],
   "source": [
    "2. Jika terdapat 2 kondisi\n",
    "\n",
    "Sintaknya:\n",
    "\n",
    "if kondisi_1:\n",
    "<tab>statement 1 \n",
    "elif kondisi_2:\n",
    "<tab>statement 2\n",
    "else:\n",
    "<tab>statement 3"
   ]
  },
  {
   "cell_type": "code",
   "execution_count": 2,
   "id": "ef0441e8",
   "metadata": {},
   "outputs": [
    {
     "name": "stdout",
     "output_type": "stream",
     "text": [
      "Isikan Nilai Pemrograman Mahasiswa:100\n",
      "Nilai Huruf Mahasiswa: A\n"
     ]
    }
   ],
   "source": [
    "# 0 - 49 => E\n",
    "# 50 - 59 => D\n",
    "# 60 - 69 => C\n",
    "# 70 - 84 => B\n",
    "# 85 - 100 => A\n",
    "\n",
    "nilai_mhs = int(input('Isikan Nilai Pemrograman Mahasiswa:'))\n",
    "\n",
    "if nilai_mhs >=0 and nilai_mhs < 50:\n",
    "    keterangan = \"E\"\n",
    "elif nilai_mhs >=50 and nilai_mhs <60:\n",
    "    keterangan = \"D\"\n",
    "elif nilai_mhs >=60 and nilai_mhs <70:\n",
    "    keterangan = \"C\"\n",
    "elif nilai_mhs >=70 and nilai_mhs <85:\n",
    "    keterangan = \"B\"\n",
    "elif nilai_mhs >=85 and nilai_mhs <101:\n",
    "    keterangan = \"A\"\n",
    "\n",
    "print(\"Nilai Huruf Mahasiswa:\", keterangan)"
   ]
  }
 ],
 "metadata": {
  "kernelspec": {
   "display_name": "Python 3 (ipykernel)",
   "language": "python",
   "name": "python3"
  },
  "language_info": {
   "codemirror_mode": {
    "name": "ipython",
    "version": 3
   },
   "file_extension": ".py",
   "mimetype": "text/x-python",
   "name": "python",
   "nbconvert_exporter": "python",
   "pygments_lexer": "ipython3",
   "version": "3.9.12"
  }
 },
 "nbformat": 4,
 "nbformat_minor": 5
}
